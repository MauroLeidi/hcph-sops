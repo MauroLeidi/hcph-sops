{
 "cells": [
  {
   "cell_type": "code",
   "execution_count": 1,
   "id": "ef6abfb0",
   "metadata": {},
   "outputs": [],
   "source": [
    "from pathlib import Path\n",
    "from bids import BIDSLayout\n",
    "from json import loads, dumps"
   ]
  },
  {
   "cell_type": "code",
   "execution_count": 2,
   "id": "12b50855",
   "metadata": {},
   "outputs": [],
   "source": [
    "DATA_PATH = Path(\"/data/datasets/hcph\")"
   ]
  },
  {
   "cell_type": "code",
   "execution_count": 3,
   "id": "252001c6",
   "metadata": {},
   "outputs": [],
   "source": [
    "layout = BIDSLayout(DATA_PATH, database_path=DATA_PATH / \".bids-index\")"
   ]
  },
  {
   "cell_type": "code",
   "execution_count": 4,
   "id": "98003744",
   "metadata": {},
   "outputs": [],
   "source": [
    "entities = {\"suffix\": \"dwi\", \"direction\": \"PA\", \"extension\": \"json\"}\n",
    "entities = {\"suffix\": \"bold\", \"task\": \"rest\", \"extension\": \"json\", \"acquisition\": None}\n",
    "entities = {\"suffix\": \"magnitude1\", \"extension\": \"json\"}\n",
    "# entities = {\"suffix\": \"magnitude2\", \"extension\": \"json\"}\n",
    "# entities = {\"suffix\": \"phasediff\", \"extension\": \"json\"}\n",
    "entities = {\"suffix\": \"epi\", \"acquisition\": \"b0\", \"extension\": \"json\"}\n",
    "entities = {\"suffix\": \"epi\", \"acquisition\": \"bold\", \"extension\": \"json\"}"
   ]
  },
  {
   "cell_type": "code",
   "execution_count": 5,
   "id": "15cc35d5",
   "metadata": {},
   "outputs": [],
   "source": [
    "if entities[\"suffix\"] == \"dwi\":\n",
    "    out_file = DATA_PATH / f\"dir-{entities['direction']}_{entities['suffix']}.json\"\n",
    "elif entities[\"suffix\"] == \"bold\":\n",
    "    out_file = DATA_PATH / f\"task-{entities['task']}_{entities['suffix']}.json\"\n",
    "elif entities[\"suffix\"] == \"epi\":\n",
    "    out_file = DATA_PATH / f\"acq-{entities['acquisition']}_{entities['suffix']}.json\"\n",
    "else:\n",
    "    out_file = DATA_PATH / f\"{entities['suffix']}.json\"\n",
    "\n",
    "out_dict = loads(out_file.read_text()) if out_file.exists() else None\n",
    "first_update = False\n",
    "\n",
    "for meta_path in layout.get(**entities):\n",
    "    if Path(meta_path.path) == out_file:\n",
    "        continue\n",
    "\n",
    "    next_dict = loads(Path(meta_path.path).read_text())    \n",
    "    next_dict.pop(\"TaskName\", None)\n",
    "    next_dict.pop(\"ProcedureStepDescription\", None)\n",
    "\n",
    "    if out_dict is None:\n",
    "        out_dict = next_dict.copy()\n",
    "        continue\n",
    "    elif not first_update:\n",
    "        next_dict.update(out_dict)\n",
    "        out_dict = next_dict.copy()\n",
    "        first_update = True\n",
    "        continue\n",
    "        \n",
    "    for key, value in next_dict.items():\n",
    "        if key not in out_dict or out_dict.get(key, None) != value:\n",
    "            out_dict.pop(key, None)"
   ]
  },
  {
   "cell_type": "code",
   "execution_count": 6,
   "id": "f70bf0c5",
   "metadata": {},
   "outputs": [
    {
     "data": {
      "text/plain": [
       "{'AcquisitionNumber': 1,\n",
       " 'BodyPartExamined': 'BRAIN',\n",
       " 'CoilCombinationMethod': 'Sum of Squares',\n",
       " 'CoilString': 'HeadNeck_64',\n",
       " 'ConversionSoftware': 'dcm2niix',\n",
       " 'ConversionSoftwareVersion': 'v1.0.20220720',\n",
       " 'DeviceSerialNumber': '67014',\n",
       " 'EchoTime': 0.035,\n",
       " 'EchoTime1': 0.035,\n",
       " 'EchoTime2': 0.001,\n",
       " 'HeudiconvVersion': '1.0.0',\n",
       " 'ImagingFrequency': 123.248,\n",
       " 'InstitutionAddress': 'Rue du Bugnon 21,Lausanne,District,CH,1011',\n",
       " 'InstitutionName': 'CHUV',\n",
       " 'MRAcquisitionType': '2D',\n",
       " 'MTState': False,\n",
       " 'MagneticFieldStrength': 3,\n",
       " 'Manufacturer': 'Siemens',\n",
       " 'ManufacturersModelName': 'MAGNETOM Prisma Fit',\n",
       " 'MatrixCoilMode': 'GRAPPA',\n",
       " 'Modality': 'MR',\n",
       " 'NonlinearGradientCorrection': True,\n",
       " 'ParallelAcquisitionTechnique': 'GRAPPA',\n",
       " 'ParallelReductionFactorInPlane': 2,\n",
       " 'PartialFourier': 0.75,\n",
       " 'PartialFourierDirection': 'PHASE',\n",
       " 'PatientPosition': 'HFS',\n",
       " 'PercentSampling': 100,\n",
       " 'PhaseResolution': 1,\n",
       " 'PulseSequenceDetails': '%CustomerSeq%\\\\cmrr_mbep2d_bold',\n",
       " 'ReceiveCoilName': 'HeadNeck_64',\n",
       " 'ScanOptions': 'PFP\\\\FS',\n",
       " 'ScanningSequence': 'EP',\n",
       " 'SoftwareVersions': 'syngo MR XA30',\n",
       " 'StationName': 'LRG10884'}"
      ]
     },
     "execution_count": 6,
     "metadata": {},
     "output_type": "execute_result"
    }
   ],
   "source": [
    "if entities[\"suffix\"] == \"dwi\":\n",
    "    deltas = {\"PA\": (0.0233, 0.0475), \"LR\": (0.0272, 0.0469)}\n",
    "    deltas[\"AP\"] = deltas[\"PA\"]\n",
    "    deltas[\"RL\"] = deltas[\"LR\"]\n",
    "    out_dict[\"Deltas\"] = deltas[entities[\"direction\"]]\n",
    "\n",
    "out_dict"
   ]
  },
  {
   "cell_type": "code",
   "execution_count": 7,
   "id": "f7bec8f7",
   "metadata": {},
   "outputs": [],
   "source": [
    "out_keys = set(out_dict.keys())\n",
    "for meta_path in layout.get(**entities):\n",
    "    path = Path(meta_path.path)\n",
    "    next_dict = loads(path.read_text())\n",
    "    for key in out_keys:\n",
    "        next_dict.pop(key, None)\n",
    "    \n",
    "    path.write_text(dumps(next_dict, indent=2, sort_keys=True))"
   ]
  },
  {
   "cell_type": "code",
   "execution_count": 8,
   "id": "c70f935c",
   "metadata": {},
   "outputs": [
    {
     "data": {
      "text/plain": [
       "1172"
      ]
     },
     "execution_count": 8,
     "metadata": {},
     "output_type": "execute_result"
    }
   ],
   "source": [
    "out_file.write_text(dumps(out_dict, indent=2, sort_keys=True))"
   ]
  },
  {
   "cell_type": "code",
   "execution_count": 9,
   "id": "56121a48",
   "metadata": {},
   "outputs": [],
   "source": [
    "if entities[\"suffix\"] == \"bold\":\n",
    "    entities[\"part\"] = \"mag\"\n",
    "    \n",
    "    for meta_path in layout.get(**entities):\n",
    "        mag_path = Path(meta_path.path)\n",
    "        phase_path = Path(str(meta_path.path).replace(\"_part-mag_\", \"_part-phase_\"))\n",
    "        mag_dict = loads(mag_path.read_text())\n",
    "        phase_dict = loads(phase_path.read_text())\n",
    "        \n",
    "        for key in mag_dict:\n",
    "            phase_dict.pop(key, None)\n",
    "        \n",
    "        if \"EchoTime1\" in phase_dict:\n",
    "            mag_dict[\"PhaseEchoTime1\"] = phase_dict.pop(\"EchoTime1\")\n",
    "\n",
    "        if \"EchoTime2\" in phase_dict:\n",
    "            mag_dict[\"PhaseEchoTime2\"] = phase_dict.pop(\"EchoTime2\")\n",
    "        \n",
    "        merged_path = Path(str(meta_path.path).replace(\"part-mag_\", \"\"))\n",
    "        merged_path.write_text(dumps(mag_dict, indent=2, sort_keys=True))\n",
    "        \n",
    "        mag_path.unlink()\n",
    "        if not phase_dict:\n",
    "            phase_path.unlink()\n",
    "elif entities[\"suffix\"] == \"epi\":\n",
    "    \n",
    "    if entities[\"acquisition\"] == \"bold\":\n",
    "        entities[\"part\"] = \"mag\"\n",
    "\n",
    "    for meta in layout.get(**entities):\n",
    "        epitype = \"dwi\" if  entities[\"acquisition\"] == \"b0\" else \"func\"\n",
    "        mag_path = Path(meta.path)\n",
    "        phase_path = Path(str(mag_path).replace(\"_part-mag_\", \"_part-phase_\"))\n",
    "        \n",
    "        mag_dict = loads(mag_path.read_text())\n",
    "        phase_dict = loads(phase_path.read_text())\n",
    "        \n",
    "        for key in mag_dict:\n",
    "            phase_dict.pop(key, None)\n",
    "        \n",
    "        if \"EchoTime1\" in phase_dict:\n",
    "            mag_dict[\"PhaseEchoTime1\"] = phase_dict.pop(\"EchoTime1\")\n",
    "\n",
    "        if \"EchoTime2\" in phase_dict:\n",
    "            mag_dict[\"PhaseEchoTime2\"] = phase_dict.pop(\"EchoTime2\")\n",
    "        \n",
    "    \n",
    "        mag_dict[\"B0FieldIdentifier\"] = f\"epi{epitype}{meta.entities['session']}\"\n",
    "        merged_path = Path(str(mag_path).replace(\"part-mag_\", \"\"))\n",
    "        merged_path.write_text(dumps(mag_dict, indent=2, sort_keys=True))\n",
    "        \n",
    "        mag_path.unlink()\n",
    "        if not phase_dict:\n",
    "            phase_path.unlink()\n",
    "        else:\n",
    "            phase_path.write_text(dumps(phase_path, indent=2, sort_keys=True))\n",
    "\n",
    "elif entities[\"suffix\"] in (\"magnitude1\", \"magnitude2\", \"phasediff\"):\n",
    "    entities[\"suffix\"] = (\"magnitude1\", \"magnitude2\", \"phasediff\")\n",
    "    for meta in layout.get(**entities):\n",
    "        meta_path = Path(meta.path)\n",
    "        meta_dict = loads(meta_path.read_text())\n",
    "        meta_dict[\"B0FieldIdentifier\"] = f\"gre{meta.entities['session']}\"\n",
    "        meta_path.write_text(dumps(meta_dict, indent=2, sort_keys=True))"
   ]
  },
  {
   "cell_type": "code",
   "execution_count": null,
   "id": "d4960d28",
   "metadata": {},
   "outputs": [],
   "source": [
    "entities[\"suffix\"] = \"phasediff\""
   ]
  },
  {
   "cell_type": "code",
   "execution_count": null,
   "id": "0dde6cb0",
   "metadata": {},
   "outputs": [],
   "source": [
    "d.entities[\"session\"]"
   ]
  },
  {
   "cell_type": "code",
   "execution_count": null,
   "id": "70081c39",
   "metadata": {},
   "outputs": [],
   "source": []
  }
 ],
 "metadata": {
  "kernelspec": {
   "display_name": "Python 3 (ipykernel)",
   "language": "python",
   "name": "python3"
  },
  "language_info": {
   "codemirror_mode": {
    "name": "ipython",
    "version": 3
   },
   "file_extension": ".py",
   "mimetype": "text/x-python",
   "name": "python",
   "nbconvert_exporter": "python",
   "pygments_lexer": "ipython3",
   "version": "3.9.12"
  }
 },
 "nbformat": 4,
 "nbformat_minor": 5
}
